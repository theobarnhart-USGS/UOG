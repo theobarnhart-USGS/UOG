{
 "cells": [
  {
   "cell_type": "code",
   "execution_count": 1,
   "metadata": {
    "collapsed": true
   },
   "outputs": [],
   "source": [
    "nd = 255."
   ]
  },
  {
   "cell_type": "code",
   "execution_count": 2,
   "metadata": {},
   "outputs": [],
   "source": [
    "import gdal"
   ]
  },
  {
   "cell_type": "code",
   "execution_count": 3,
   "metadata": {
    "collapsed": true
   },
   "outputs": [],
   "source": [
    "wells = glob.glob('./data/haines_tiffs/well_count*.tif')\n",
    "gas = glob.glob('./data/haines_tiffs/gas_production_*.tif')\n",
    "oil = glob.glob('./data/haines_tiffs/oil_production_*.tif')\n",
    "treatments = glob.glob('./data/haines_tiffs/treatment_water_*.tif')\n",
    "produced = glob.glob('./data/haines_tiffs/water_production_*.tif')"
   ]
  },
  {
   "cell_type": "code",
   "execution_count": 4,
   "metadata": {
    "collapsed": true
   },
   "outputs": [],
   "source": [
    "vars = [wells,gas,oil,treatments,produced]\n",
    "varnames = ['wells','gas','oil','treatments','produced']"
   ]
  },
  {
   "cell_type": "code",
   "execution_count": 26,
   "metadata": {},
   "outputs": [],
   "source": [
    "def get_minmax(fl):\n",
    "    ds = gdal.Open(fl,gdal.GA_ReadOnly)\n",
    "    band = ds.GetRasterBand(1)\n",
    "    dat = np.array(ds.GetRasterBand(1).ReadAsArray(),np.float32)\n",
    "    nd = band.GetNoDataValue()\n",
    "    dat[dat==nd] = np.NaN\n",
    "    n,m = dat.shape\n",
    "    tmp = np.reshape(dat,(n*m))\n",
    "    tmp = tmp[(np.isnan(tmp)==0) & (np.isinf(tmp) == 0)]\n",
    "    return np.min(tmp),np.max(tmp),nd"
   ]
  },
  {
   "cell_type": "code",
   "execution_count": 34,
   "metadata": {},
   "outputs": [
    {
     "name": "stdout",
     "output_type": "stream",
     "text": [
      "wells min: 1.000000\n",
      "wells max: 17.000000\n",
      "wells nodata: 255.000000\n",
      "gas min: 0.000000\n",
      "gas max: 549919.000000\n",
      "gas nodata: 65535.000000\n",
      "oil min: 0.000000\n",
      "oil max: 3101867.000000\n",
      "oil nodata: 65535.000000\n",
      "treatments min: 100.000000\n",
      "treatments max: 109235784.000000\n",
      "treatments nodata: -179769313486231570814527423731704356798070567525844996598917476803157260780028538760589558632766878171540458953514382464234321326889464182768467546703537516986049910576551282076245490090389328944075868508455133942304583236903222948165808559332123348274797826204144723168738177180919299881250404026184124858368.000000\n",
      "produced min: 0.000000\n",
      "produced max: 8532121.000000\n",
      "produced nodata: 2147483647.000000\n"
     ]
    }
   ],
   "source": [
    "for var,varname in zip(vars,varnames):\n",
    "    out = []\n",
    "    for fl in var:\n",
    "        out.append(get_minmax(fl))\n",
    "    min,max,nd = zip(*out)\n",
    "\n",
    "    print('%s min: %f'%(varname,np.min(min)))\n",
    "    print('%s max: %f'%(varname,np.max(max)))\n",
    "    print('%s nodata: %f'%(varname,np.unique(nd)[0]))"
   ]
  },
  {
   "cell_type": "code",
   "execution_count": 31,
   "metadata": {},
   "outputs": [
    {
     "data": {
      "text/plain": [
       "array([ 255.])"
      ]
     },
     "execution_count": 31,
     "metadata": {},
     "output_type": "execute_result"
    }
   ],
   "source": [
    "np.unique(nd)"
   ]
  },
  {
   "cell_type": "code",
   "execution_count": 15,
   "metadata": {},
   "outputs": [
    {
     "data": {
      "text/plain": [
       "array([], dtype=float16)"
      ]
     },
     "execution_count": 15,
     "metadata": {},
     "output_type": "execute_result"
    }
   ],
   "source": [
    "tmp"
   ]
  },
  {
   "cell_type": "code",
   "execution_count": 19,
   "metadata": {},
   "outputs": [],
   "source": [
    "dat = np.array(ds.GetRasterBand(1).ReadAsArray(),dtype=np.float32)"
   ]
  },
  {
   "cell_type": "code",
   "execution_count": 20,
   "metadata": {},
   "outputs": [
    {
     "data": {
      "text/plain": [
       "array([[  2.14748365e+09,   2.14748365e+09,   2.14748365e+09, ...,\n",
       "          2.14748365e+09,   2.14748365e+09,   2.14748365e+09],\n",
       "       [  2.14748365e+09,   2.14748365e+09,   2.14748365e+09, ...,\n",
       "          2.14748365e+09,   2.14748365e+09,   2.14748365e+09],\n",
       "       [  2.14748365e+09,   2.14748365e+09,   2.14748365e+09, ...,\n",
       "          2.14748365e+09,   2.14748365e+09,   2.14748365e+09],\n",
       "       ..., \n",
       "       [  2.14748365e+09,   2.14748365e+09,   2.14748365e+09, ...,\n",
       "          2.14748365e+09,   2.14748365e+09,   2.14748365e+09],\n",
       "       [  2.14748365e+09,   2.14748365e+09,   2.14748365e+09, ...,\n",
       "          2.14748365e+09,   2.14748365e+09,   2.14748365e+09],\n",
       "       [  2.14748365e+09,   2.14748365e+09,   2.14748365e+09, ...,\n",
       "          2.14748365e+09,   2.14748365e+09,   2.14748365e+09]], dtype=float32)"
      ]
     },
     "execution_count": 20,
     "metadata": {},
     "output_type": "execute_result"
    }
   ],
   "source": [
    "dat"
   ]
  },
  {
   "cell_type": "code",
   "execution_count": 14,
   "metadata": {},
   "outputs": [],
   "source": [
    "ds = gdal.Open(fl,gdal.GA_ReadOnly)\n",
    "dat = np.array(ds.GetRasterBand(1).ReadAsArray(),dtype=np.float16)\n",
    "dat[dat==nd] = np.NaN\n",
    "n,m = dat.shape\n",
    "tmp = np.reshape(dat,(n*m))\n",
    "tmp = tmp[(np.isnan(tmp)==0) & (np.isinf(tmp) == 0)]"
   ]
  },
  {
   "cell_type": "code",
   "execution_count": 48,
   "metadata": {},
   "outputs": [],
   "source": [
    "from scipy import stats as ss"
   ]
  },
  {
   "cell_type": "code",
   "execution_count": 49,
   "metadata": {},
   "outputs": [
    {
     "data": {
      "text/plain": [
       "ModeResult(mode=array([ 255.], dtype=float16), count=array([208702]))"
      ]
     },
     "execution_count": 49,
     "metadata": {},
     "output_type": "execute_result"
    }
   ],
   "source": [
    "ss.mode(tmp)"
   ]
  },
  {
   "cell_type": "code",
   "execution_count": 40,
   "metadata": {},
   "outputs": [
    {
     "data": {
      "text/plain": [
       "array([ 1.,  1.,  1.,  1.,  1.,  1.,  1.,  1.,  1.,  1.,  1.,  1.,  1.,\n",
       "        1.,  2.,  1.,  1.,  1.,  1.,  2.,  1.,  2.,  1.,  1.,  1.,  1.,\n",
       "        1.,  1.,  1.,  1.,  1.,  1.,  1.,  1.,  1.,  1.,  2.,  1.,  1.,\n",
       "        1.,  1.,  1.,  1.,  1.,  1.,  1.,  1.,  1.,  1.,  1.,  1.,  2.,\n",
       "        1.,  2.,  1.,  1.,  1.,  1.,  3.,  1.,  1.,  1.,  1.,  1.,  1.,  1.], dtype=float16)"
      ]
     },
     "execution_count": 40,
     "metadata": {},
     "output_type": "execute_result"
    }
   ],
   "source": [
    "tmp"
   ]
  },
  {
   "cell_type": "code",
   "execution_count": null,
   "metadata": {
    "collapsed": true
   },
   "outputs": [],
   "source": []
  }
 ],
 "metadata": {
  "kernelspec": {
   "display_name": "Python 3",
   "language": "python",
   "name": "python3"
  },
  "language_info": {
   "codemirror_mode": {
    "name": "ipython",
    "version": 3
   },
   "file_extension": ".py",
   "mimetype": "text/x-python",
   "name": "python",
   "nbconvert_exporter": "python",
   "pygments_lexer": "ipython3",
   "version": "3.6.2"
  }
 },
 "nbformat": 4,
 "nbformat_minor": 2
}
