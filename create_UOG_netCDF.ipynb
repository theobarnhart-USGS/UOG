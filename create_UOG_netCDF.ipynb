{
 "cells": [
  {
   "cell_type": "code",
   "execution_count": 1,
   "metadata": {
    "collapsed": true
   },
   "outputs": [],
   "source": [
    "from netCDF4 import Dataset\n",
    "import rasterio\n",
    "from affine import Affine\n",
    "from pyproj import Proj, transform"
   ]
  },
  {
   "cell_type": "code",
   "execution_count": 2,
   "metadata": {
    "collapsed": true
   },
   "outputs": [],
   "source": [
    "test = Dataset('./data/test.nc','w')"
   ]
  },
  {
   "cell_type": "code",
   "execution_count": 3,
   "metadata": {
    "collapsed": true
   },
   "outputs": [],
   "source": [
    "fl = './data/haines_tiffs/gas_production_1980.tif'\n",
    "\n",
    "with rasterio.open(fl) as r:\n",
    "    T0 = r.affine # upper-left pixel corner affine transform\n",
    "    A = r.read(1) # get pixel values\n",
    "    cs = T0[0] # get cell size\n",
    "# generate rows and columns\n",
    "cols,rows = np.meshgrid(np.arange(A.shape[1]), np.arange(A.shape[0]))"
   ]
  },
  {
   "cell_type": "code",
   "execution_count": 6,
   "metadata": {
    "collapsed": true
   },
   "outputs": [],
   "source": [
    "r.crs['units'] = 'us-ft'\n",
    "r.crs['to_meter'] = 0.304800609601219"
   ]
  },
  {
   "cell_type": "code",
   "execution_count": 8,
   "metadata": {
    "collapsed": true
   },
   "outputs": [],
   "source": [
    "p1 = Proj(r.crs, preserve_units=True)"
   ]
  },
  {
   "cell_type": "code",
   "execution_count": 10,
   "metadata": {
    "collapsed": true
   },
   "outputs": [],
   "source": [
    "T1 = T0 * Affine.translation(0.5,0.5) # get affine transform for pixel centers\n",
    "\n",
    "rc2en = lambda r,c: (c,r) * T1 # function to convert row/col index to easting/northing at centre\n",
    "\n",
    "eastings,northings  = np.vectorize(rc2en)(rows,cols)\n",
    "\n",
    "# project all longitudes and latitutes\n",
    "p2 = Proj(proj = 'latlong',datum='WGS84')\n",
    "longs,lats = transform(p1,p2, eastings,northings)"
   ]
  },
  {
   "cell_type": "code",
   "execution_count": 11,
   "metadata": {},
   "outputs": [
    {
     "name": "stdout",
     "output_type": "stream",
     "text": [
      "-1127952.76\n",
      "1332527.24\n",
      "17164698.164\n",
      "19530138.164\n"
     ]
    }
   ],
   "source": [
    "print(round(eastings.min()-(cs/2),3))\n",
    "print(round(eastings.max()+(cs/2),3))\n",
    "print(round(northings.min()-(cs/2),3))\n",
    "print(round(northings.max()+(cs/2),3))"
   ]
  },
  {
   "cell_type": "code",
   "execution_count": 15,
   "metadata": {},
   "outputs": [
    {
     "name": "stdout",
     "output_type": "stream",
     "text": [
      "-108.79\n",
      "-98.341\n",
      "44.402\n",
      "50.93\n"
     ]
    }
   ],
   "source": [
    "print(round(longs.min(),3))\n",
    "print(round(longs.max(),3))\n",
    "print(round(lats.min(),3))\n",
    "print(round(lats.max(),3))"
   ]
  },
  {
   "cell_type": "code",
   "execution_count": 15,
   "metadata": {},
   "outputs": [
    {
     "data": {
      "text/plain": [
       "(466,)"
      ]
     },
     "execution_count": 15,
     "metadata": {},
     "output_type": "execute_result"
    }
   ],
   "source": [
    "easting.shape"
   ]
  },
  {
   "cell_type": "code",
   "execution_count": 16,
   "metadata": {},
   "outputs": [
    {
     "data": {
      "text/plain": [
       "'+proj=lcc +lat_1=33 +lat_2=45 +lat_0=0 +lon_0=-104 +x_0=0 +y_0=0 +datum=NAD83 +units=m +no_defs=True +to_meter=0.304800609601219 '"
      ]
     },
     "execution_count": 16,
     "metadata": {},
     "output_type": "execute_result"
    }
   ],
   "source": [
    "p1.srs"
   ]
  },
  {
   "cell_type": "code",
   "execution_count": 17,
   "metadata": {},
   "outputs": [
    {
     "data": {
      "text/plain": [
       "-179.99943490019342"
      ]
     },
     "execution_count": 17,
     "metadata": {},
     "output_type": "execute_result"
    }
   ],
   "source": [
    "longs.min()"
   ]
  },
  {
   "cell_type": "code",
   "execution_count": 18,
   "metadata": {},
   "outputs": [
    {
     "data": {
      "text/plain": [
       "179.99944915525055"
      ]
     },
     "execution_count": 18,
     "metadata": {},
     "output_type": "execute_result"
    }
   ],
   "source": [
    "longs.max()"
   ]
  },
  {
   "cell_type": "code",
   "execution_count": 19,
   "metadata": {},
   "outputs": [
    {
     "data": {
      "text/plain": [
       "44.698302361674358"
      ]
     },
     "execution_count": 19,
     "metadata": {},
     "output_type": "execute_result"
    }
   ],
   "source": [
    "lats.min()"
   ]
  },
  {
   "cell_type": "code",
   "execution_count": 20,
   "metadata": {},
   "outputs": [
    {
     "data": {
      "text/plain": [
       "65.955221782136661"
      ]
     },
     "execution_count": 20,
     "metadata": {},
     "output_type": "execute_result"
    }
   ],
   "source": [
    "lats.max()"
   ]
  },
  {
   "cell_type": "code",
   "execution_count": null,
   "metadata": {
    "collapsed": true
   },
   "outputs": [],
   "source": []
  }
 ],
 "metadata": {
  "kernelspec": {
   "display_name": "Python 3",
   "language": "python",
   "name": "python3"
  },
  "language_info": {
   "codemirror_mode": {
    "name": "ipython",
    "version": 3
   },
   "file_extension": ".py",
   "mimetype": "text/x-python",
   "name": "python",
   "nbconvert_exporter": "python",
   "pygments_lexer": "ipython3",
   "version": "3.6.2"
  }
 },
 "nbformat": 4,
 "nbformat_minor": 2
}
