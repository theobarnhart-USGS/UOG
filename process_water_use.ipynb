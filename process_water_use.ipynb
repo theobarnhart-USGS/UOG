{
 "cells": [
  {
   "cell_type": "markdown",
   "metadata": {},
   "source": [
    "## Process Water Use Data from the National Water Information Center\n",
    "\n",
    "\n",
    "### Terms defined here\n",
    "https://water.usgs.gov/watuse/wuglossary.html\n",
    "\n",
    "Data come in in million's of gallons/day for water and thousands of people for population"
   ]
  },
  {
   "cell_type": "code",
   "execution_count": 25,
   "metadata": {
    "collapsed": true
   },
   "outputs": [],
   "source": [
    "files = glob.glob('./data/*_water_use.tsv')"
   ]
  },
  {
   "cell_type": "code",
   "execution_count": 26,
   "metadata": {
    "collapsed": true
   },
   "outputs": [],
   "source": [
    "dat = pd.DataFrame()\n",
    "\n",
    "for fl in files:\n",
    "    state = fl.split('\\\\')[-1].split('_')[0]\n",
    "    tmp = pd.read_table(fl,sep='\\t',comment='#',header=1)\n",
    "    cols = tmp.columns\n",
    "    tmp = pd.read_table(fl,sep='\\t',comment='#',skiprows=311,names=cols,na_values='-')\n",
    "    tmp['state'] = state\n",
    "    \n",
    "    dat = pd.concat([dat,tmp])\n",
    "    \n",
    "\n",
    "tuples = list(zip(*[dat.state.as_matrix(),dat.year.as_matrix()]))\n",
    "dat.index= pd.MultiIndex.from_tuples(tuples,names=['state','year'])\n",
    "    #dat.index = dat.year"
   ]
  },
  {
   "cell_type": "code",
   "execution_count": 27,
   "metadata": {},
   "outputs": [],
   "source": [
    "cols = dat.filter(regex='Domestic * self').columns[0:-1]"
   ]
  },
  {
   "cell_type": "code",
   "execution_count": 28,
   "metadata": {},
   "outputs": [],
   "source": [
    "cols = cols.append(dat.filter(regex='Domestic * de*').columns)"
   ]
  },
  {
   "cell_type": "code",
   "execution_count": 30,
   "metadata": {},
   "outputs": [
    {
     "data": {
      "text/plain": [
       "Index(['Domestic self-supplied groundwater withdrawals, fresh, in Mgal/d',\n",
       "       'Domestic self-supplied groundwater withdrawals, saline, in Mgal/d',\n",
       "       'Domestic self-supplied surface-water withdrawals, fresh, in Mgal/d',\n",
       "       'Domestic self-supplied surface-water withdrawals, saline, in Mgal/d',\n",
       "       'Domestic deliveries from public supply, in Mgal/d'],\n",
       "      dtype='object')"
      ]
     },
     "execution_count": 30,
     "metadata": {},
     "output_type": "execute_result"
    }
   ],
   "source": [
    "cols"
   ]
  },
  {
   "cell_type": "code",
   "execution_count": 53,
   "metadata": {},
   "outputs": [],
   "source": [
    "out = pd.DataFrame({'domestic':dat[cols].sum(axis=1),\n",
    "    'population':dat['Total Population total population of area, in thousands'],\n",
    "                   'year':dat.year,'state':dat.state},index=dat.index)"
   ]
  },
  {
   "cell_type": "code",
   "execution_count": 54,
   "metadata": {},
   "outputs": [],
   "source": [
    "out.domestic *= 1000000 # millions of gallons/day > gallons/day\n",
    "out.population *= 1000 # thousands of people > people"
   ]
  },
  {
   "cell_type": "code",
   "execution_count": 55,
   "metadata": {},
   "outputs": [],
   "source": [
    "out['gal_person_day'] = out.domestic/out.population"
   ]
  },
  {
   "cell_type": "code",
   "execution_count": 67,
   "metadata": {},
   "outputs": [
    {
     "data": {
      "text/plain": [
       "<matplotlib.text.Text at 0xb242668>"
      ]
     },
     "execution_count": 67,
     "metadata": {},
     "output_type": "execute_result"
    },
    {
     "data": {
      "image/png": "[encoded data removed]",
      "text/plain": [
       "<matplotlib.figure.Figure at 0xb175ba8>"
      ]
     },
     "metadata": {},
     "output_type": "display_data"
    }
   ],
   "source": [
    "for state in ['mt','nd']:\n",
    "    df = out.loc[(out.state==state) & (out.gal_person_day>0)]\n",
    "    plt.plot(df.year,df.gal_person_day,label = state)\n",
    "\n",
    "plt.legend(fontsize=14)\n",
    "plt.ylabel('gallons/person/day', fontsize=14)\n",
    "plt.title('Domestic Water Use', fontsize=16)"
   ]
  },
  {
   "cell_type": "code",
   "execution_count": 63,
   "metadata": {},
   "outputs": [
    {
     "data": {
      "text/html": [
       "<div>\n",
       "<style>\n",
       "    .dataframe thead tr:only-child th {\n",
       "        text-align: right;\n",
       "    }\n",
       "\n",
       "    .dataframe thead th {\n",
       "        text-align: left;\n",
       "    }\n",
       "\n",
       "    .dataframe tbody tr th {\n",
       "        vertical-align: top;\n",
       "    }\n",
       "</style>\n",
       "<table border=\"1\" class=\"dataframe\">\n",
       "  <thead>\n",
       "    <tr style=\"text-align: right;\">\n",
       "      <th></th>\n",
       "      <th></th>\n",
       "      <th>domestic</th>\n",
       "      <th>population</th>\n",
       "      <th>state</th>\n",
       "      <th>year</th>\n",
       "      <th>gal_person_day</th>\n",
       "    </tr>\n",
       "    <tr>\n",
       "      <th>state</th>\n",
       "      <th>year</th>\n",
       "      <th></th>\n",
       "      <th></th>\n",
       "      <th></th>\n",
       "      <th></th>\n",
       "      <th></th>\n",
       "    </tr>\n",
       "  </thead>\n",
       "  <tbody>\n",
       "    <tr>\n",
       "      <th rowspan=\"6\" valign=\"top\">mt</th>\n",
       "      <th>1985</th>\n",
       "      <td>106180000.0</td>\n",
       "      <td>822830.0</td>\n",
       "      <td>mt</td>\n",
       "      <td>1985</td>\n",
       "      <td>129.042451</td>\n",
       "    </tr>\n",
       "    <tr>\n",
       "      <th>1990</th>\n",
       "      <td>92780000.0</td>\n",
       "      <td>799070.0</td>\n",
       "      <td>mt</td>\n",
       "      <td>1990</td>\n",
       "      <td>116.109978</td>\n",
       "    </tr>\n",
       "    <tr>\n",
       "      <th>1995</th>\n",
       "      <td>94460000.0</td>\n",
       "      <td>870280.0</td>\n",
       "      <td>mt</td>\n",
       "      <td>1995</td>\n",
       "      <td>108.539780</td>\n",
       "    </tr>\n",
       "    <tr>\n",
       "      <th>2000</th>\n",
       "      <td>22830000.0</td>\n",
       "      <td>902240.0</td>\n",
       "      <td>mt</td>\n",
       "      <td>2000</td>\n",
       "      <td>25.303689</td>\n",
       "    </tr>\n",
       "    <tr>\n",
       "      <th>2005</th>\n",
       "      <td>104480000.0</td>\n",
       "      <td>935670.0</td>\n",
       "      <td>mt</td>\n",
       "      <td>2005</td>\n",
       "      <td>111.663300</td>\n",
       "    </tr>\n",
       "    <tr>\n",
       "      <th>2010</th>\n",
       "      <td>0.0</td>\n",
       "      <td>989415.0</td>\n",
       "      <td>mt</td>\n",
       "      <td>2010</td>\n",
       "      <td>0.000000</td>\n",
       "    </tr>\n",
       "    <tr>\n",
       "      <th rowspan=\"6\" valign=\"top\">nd</th>\n",
       "      <th>1985</th>\n",
       "      <td>54060000.0</td>\n",
       "      <td>688130.0</td>\n",
       "      <td>nd</td>\n",
       "      <td>1985</td>\n",
       "      <td>78.560737</td>\n",
       "    </tr>\n",
       "    <tr>\n",
       "      <th>1990</th>\n",
       "      <td>53740000.0</td>\n",
       "      <td>638770.0</td>\n",
       "      <td>nd</td>\n",
       "      <td>1990</td>\n",
       "      <td>84.130438</td>\n",
       "    </tr>\n",
       "    <tr>\n",
       "      <th>1995</th>\n",
       "      <td>52380000.0</td>\n",
       "      <td>641400.0</td>\n",
       "      <td>nd</td>\n",
       "      <td>1995</td>\n",
       "      <td>81.665108</td>\n",
       "    </tr>\n",
       "    <tr>\n",
       "      <th>2000</th>\n",
       "      <td>11860000.0</td>\n",
       "      <td>642240.0</td>\n",
       "      <td>nd</td>\n",
       "      <td>2000</td>\n",
       "      <td>18.466617</td>\n",
       "    </tr>\n",
       "    <tr>\n",
       "      <th>2005</th>\n",
       "      <td>57680000.0</td>\n",
       "      <td>636677.0</td>\n",
       "      <td>nd</td>\n",
       "      <td>2005</td>\n",
       "      <td>90.595388</td>\n",
       "    </tr>\n",
       "    <tr>\n",
       "      <th>2010</th>\n",
       "      <td>53560000.0</td>\n",
       "      <td>672591.0</td>\n",
       "      <td>nd</td>\n",
       "      <td>2010</td>\n",
       "      <td>79.632347</td>\n",
       "    </tr>\n",
       "  </tbody>\n",
       "</table>\n",
       "</div>"
      ],
      "text/plain": [
       "               domestic  population state  year  gal_person_day\n",
       "state year                                                     \n",
       "mt    1985  106180000.0    822830.0    mt  1985      129.042451\n",
       "      1990   92780000.0    799070.0    mt  1990      116.109978\n",
       "      1995   94460000.0    870280.0    mt  1995      108.539780\n",
       "      2000   22830000.0    902240.0    mt  2000       25.303689\n",
       "      2005  104480000.0    935670.0    mt  2005      111.663300\n",
       "      2010          0.0    989415.0    mt  2010        0.000000\n",
       "nd    1985   54060000.0    688130.0    nd  1985       78.560737\n",
       "      1990   53740000.0    638770.0    nd  1990       84.130438\n",
       "      1995   52380000.0    641400.0    nd  1995       81.665108\n",
       "      2000   11860000.0    642240.0    nd  2000       18.466617\n",
       "      2005   57680000.0    636677.0    nd  2005       90.595388\n",
       "      2010   53560000.0    672591.0    nd  2010       79.632347"
      ]
     },
     "execution_count": 63,
     "metadata": {},
     "output_type": "execute_result"
    }
   ],
   "source": [
    "out"
   ]
  },
  {
   "cell_type": "code",
   "execution_count": null,
   "metadata": {
    "collapsed": true
   },
   "outputs": [],
   "source": []
  }
 ],
 "metadata": {
  "kernelspec": {
   "display_name": "Python 3",
   "language": "python",
   "name": "python3"
  },
  "language_info": {
   "codemirror_mode": {
    "name": "ipython",
    "version": 3
   },
   "file_extension": ".py",
   "mimetype": "text/x-python",
   "name": "python",
   "nbconvert_exporter": "python",
   "pygments_lexer": "ipython3",
   "version": "3.6.1"
  }
 },
 "nbformat": 4,
 "nbformat_minor": 2
}
